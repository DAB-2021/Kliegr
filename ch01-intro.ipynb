{
 "cells": [
  {
   "cell_type": "markdown",
   "metadata": {},
   "source": [
    "## Intro\n",
    "\n",
    "* python initially as a glue language, used for web development (Django)\n",
    "* Initially, R for prototyping, C or Java for deployment\n",
    "* Now Python 1-for-all\n",
    "* Limitation: sometimes slow because it is interpreted, but developer time is usually more precious\n",
    "* you will become \"pythonists\", writing in pythonic way"
   ]
  },
  {
   "cell_type": "markdown",
   "metadata": {},
   "source": [
    "## About language\n",
    "* language from 1989/ [Guido Van Rossum](https://en.wikipedia.org/wiki/Guido_van_Rossum) (CWI, Netherlands)\n",
    "* Name refers to Monty Python \n",
    "* The second most popular language on Github, behind Javascript\n",
    "* example of a tool created in academia in Europe, similarly as HTML (CERN)\n"
   ]
  },
  {
   "cell_type": "markdown",
   "metadata": {},
   "source": [
    "![image](img/kdnuggets.jpg)\n",
    "source: https://www.kdnuggets.com/2019/05/poll-top-data-science-machine-learning-platforms.html"
   ]
  },
  {
   "cell_type": "markdown",
   "metadata": {},
   "source": [
    "## IDEs\n",
    "\n",
    "* Ipython shell\n",
    "* Jupyter notebooks\n",
    "* Visual studio code\n",
    "* Pycharm\n",
    "* ...\n"
   ]
  },
  {
   "cell_type": "markdown",
   "metadata": {},
   "source": [
    "## Is Python Interpreted or compiled?\n",
    "![image](img/interpreter.jpg)\n",
    "* \"Python is an interpreted language, as opposed to a compiled one, though the distinction can be blurry because of the presence of the bytecode compiler. This means that source files can be run directly without explicitly creating an executable which is then run.\" https://docs.python.org/2/glossary.html\n",
    "* to run a python program, execute \n",
    "      python examples/hello_world.py\n",
    "      \n",
    "* note that no .pyc file is created\n",
    "\n",
    "## pyc files\n",
    "* A *.pyc file is created for imported modules, and they are placed in the same directory containing the .py file. However... no .pyc file is created for the main script for your program. In other words... if you call \"python myscript.py\" on the command line, there will be no .pyc file for myscript.py.\n",
    " python hello_world2.py # will create pyc file in __pycache__ folder\n",
    "* To run a python program with imported module, execute \n",
    "      python examples/hello_world2.py\n",
    "* This will  will create pyc file in __pycache__ folder\n",
    "* A program doesn't run any faster when it is read from a ‘.pyc’ or ‘.pyo’ file than when it is read from a ‘.py’ file; the only thing that's faster about ‘.pyc’ or ‘.pyo’ files is the speed with which they are loaded.\n",
    "\n"
   ]
  }
 ],
 "metadata": {
  "kernelspec": {
   "display_name": "Python 3 (ipykernel)",
   "language": "python",
   "name": "python3"
  },
  "language_info": {
   "codemirror_mode": {
    "name": "ipython",
    "version": 3
   },
   "file_extension": ".py",
   "mimetype": "text/x-python",
   "name": "python",
   "nbconvert_exporter": "python",
   "pygments_lexer": "ipython3",
   "version": "3.9.7"
  }
 },
 "nbformat": 4,
 "nbformat_minor": 2
}
